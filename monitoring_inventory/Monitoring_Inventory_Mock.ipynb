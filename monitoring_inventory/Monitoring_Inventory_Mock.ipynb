{
 "cells": [
  {
   "cell_type": "markdown",
   "id": "cd591e57-827d-44b0-97f3-263cca3f1b58",
   "metadata": {},
   "source": [
    "### Monitoring Inventory\n",
    "    monitoring_inventory/\n",
    "    └── data/\n",
    "        ├── Organization/\n",
    "        │   └── Organization.csv\n",
    "        ├── Assets/\n",
    "        │   └── Assets.csv\n",
    "        ├── Device_Class/\n",
    "        │   └── Device_Class.csv\n",
    "        ├── Device/\n",
    "        │   └── Device.csv\n",
    "        ├── Interface/\n",
    "        │   └── Interface.csv\n",
    "        └── Events/\n",
    "            └── Events.csv\n",
    "\n",
    "\n",
    "#### Problem Statement:\n",
    "    \n",
    "    Mock implementation of organizations whose devices need to be organised, managed and monitored for the activities\n",
    "\n",
    "    Phase-1: - In Progress (EDA + Some query examples of entity relations)\n",
    "        Need to read all the inventory data and find the relations and come up with plotting and displaying relationships\n",
    "\n",
    "    Phase-2: - Need to Implement\n",
    "        Need to come up with mock code for generating daily, hourly, minute and second data for events to be generated and processed \n",
    "        for showing the health of different devices under each organization of inventory"
   ]
  },
  {
   "cell_type": "markdown",
   "id": "64b1eae7-1fbf-4e59-ad33-61414e339e95",
   "metadata": {},
   "source": [
    "#### Phase-1 : Load Data and show the data relationship and classifications\n",
    "    Entities:\n",
    "        [organization, assets, device_class, devices, interfaces, events]\n",
    "    Read all the csv files under folder \"D:\\Career-Related\\Trainings\\ETLHive-Training-Content\\Python\\Python-ETL-Workspace\\monitoring_inventory\\data\"\n",
    "    Note: As per any industry (component teams) or tool(for fetching data) there will be a schema defined for them. \n",
    "          In order for code to be schema agnostic define EntitySchemaMapper for code to be decoupled with tool or component"
   ]
  },
  {
   "cell_type": "code",
   "execution_count": 44,
   "id": "94c1bd93-9b57-4553-99fb-1a09fa713552",
   "metadata": {},
   "outputs": [],
   "source": [
    "# Load pre-requisite libraries\n",
    "import pandas as pd\n",
    "import os\n",
    "import matplotlib.pyplot as plt\n",
    "import seaborn as sns\n",
    "## Define EntitySchemaMapper as per entities being processed\n",
    "\n",
    "class EntitySchemaMapper:\n",
    "    MAPPINGS = {\n",
    "        \"organization\": {\n",
    "            \"organization_id\": \"organization_id\",\n",
    "            \"name\": \"org_name\",\n",
    "            \"address\": \"org_address\",\n",
    "            \"contact_email\": \"org_email\",\n",
    "            \"contact_phone\": \"org_phone\",\n",
    "            \"industry\": \"org_industry\"\n",
    "        },\n",
    "        \"asset\": {\n",
    "            \"asset_id\": \"asset_id\",\n",
    "            \"name\": \"asset_name\",\n",
    "            \"location\": \"asset_location\",\n",
    "            \"purchase_date\": \"asset_purchase_date\",\n",
    "            \"owner\": \"asset_owner\",\n",
    "            \"organization_id\": \"organization_id\"\n",
    "        },\n",
    "        \"device\": {\n",
    "            \"device_id\": \"device_id\",\n",
    "            \"ip_address\": \"device_ip\",\n",
    "            \"serial_number\": \"device_serial\",\n",
    "            \"manufacturer\": \"device_manufacturer\",\n",
    "            \"asset_id\": \"asset_id\",\n",
    "            \"device_class_id\": \"device_class_id\"\n",
    "        },\n",
    "        \"interface\": {\n",
    "            \"interface_id\": \"interface_id\",\n",
    "            \"name\": \"interface_name\",\n",
    "            \"mac_address\": \"interface_mac\",\n",
    "            \"status\": \"interface_status\",\n",
    "            \"device_id\": \"device_id\"\n",
    "        },\n",
    "        \"device_class\": {\n",
    "            \"device_class_id\": \"device_class_id\",\n",
    "            \"name\": \"device_class_name\",\n",
    "            \"description\": \"device_class_description\"\n",
    "        },\n",
    "        \"event\": {\n",
    "            \"event_id\": \"event_id\",\n",
    "            \"timestamp\": \"event_timestamp\",\n",
    "            \"event_type\": \"event_type\",\n",
    "            \"description\": \"event_description\",\n",
    "            \"device_id\": \"device_id\",\n",
    "            \"interface_id\": \"interface_id\"\n",
    "        }\n",
    "    }\n",
    "\n",
    "    @classmethod\n",
    "    def rename_columns(cls, df: pd.DataFrame, entity: str) -> pd.DataFrame:\n",
    "        return df.rename(columns=cls.MAPPINGS.get(entity, {}))"
   ]
  },
  {
   "cell_type": "markdown",
   "id": "0a5286ae-9efe-4346-b033-8bdb2e34faed",
   "metadata": {},
   "source": [
    "#### Data Ingestion\n",
    "    # Load csv files for entities"
   ]
  },
  {
   "cell_type": "code",
   "execution_count": 8,
   "id": "d49e8b6b-d78b-4275-a28f-36ec75022628",
   "metadata": {},
   "outputs": [
    {
     "data": {
      "text/plain": [
       "((100, 6), (100000, 6))"
      ]
     },
     "execution_count": 8,
     "metadata": {},
     "output_type": "execute_result"
    }
   ],
   "source": [
    "# Base path\n",
    "BASE_PATH = r\"D:\\Career-Related\\Trainings\\ETLHive-Training-Content\\Python\\Python-ETL-Workspace\\monitoring_inventory\\data\"\n",
    "\n",
    "# Read CSVs into DataFrames\n",
    "org_df = pd.read_csv(os.path.join(BASE_PATH, \"Organization\", \"organization.csv\"))\n",
    "assets_df = pd.read_csv(os.path.join(BASE_PATH, \"Asset\", \"assets.csv\"))\n",
    "dev_class_df = pd.read_csv(os.path.join(BASE_PATH, \"Device_Class\", \"device_class.csv\"))\n",
    "device_df = pd.read_csv(os.path.join(BASE_PATH, \"Device\", \"devices.csv\"))\n",
    "interface_df = pd.read_csv(os.path.join(BASE_PATH, \"Interface\", \"interfaces.csv\"))\n",
    "events_df = pd.read_csv(os.path.join(BASE_PATH, \"Event\", \"events.csv\"))\n",
    "org_df.shape, events_df.shape\n"
   ]
  },
  {
   "cell_type": "markdown",
   "id": "7adb6611-60f5-4b2e-9ea6-f512250b67bc",
   "metadata": {},
   "source": [
    "##### Apply entity-based column renaming"
   ]
  },
  {
   "cell_type": "code",
   "execution_count": 10,
   "id": "f509bebe-c698-4d0d-a5ca-d66e4c57b98b",
   "metadata": {},
   "outputs": [
    {
     "data": {
      "text/plain": [
       "((100, 6), (100000, 6))"
      ]
     },
     "execution_count": 10,
     "metadata": {},
     "output_type": "execute_result"
    }
   ],
   "source": [
    "# Apply entity-based column renaming\n",
    "org_df = EntitySchemaMapper.rename_columns(org_df, \"organization\")\n",
    "assets_df = EntitySchemaMapper.rename_columns(assets_df, \"asset\")\n",
    "dev_class_df = EntitySchemaMapper.rename_columns(dev_class_df, \"device_class\")\n",
    "device_df = EntitySchemaMapper.rename_columns(device_df, \"device\")\n",
    "interface_df = EntitySchemaMapper.rename_columns(interface_df, \"interface\")\n",
    "events_df = EntitySchemaMapper.rename_columns(events_df, \"event\")\n",
    "org_df.shape, events_df.shape"
   ]
  },
  {
   "cell_type": "code",
   "execution_count": 25,
   "id": "4006ca04-eb59-4d28-b67f-7be296d1fe85",
   "metadata": {},
   "outputs": [],
   "source": [
    "# Merge Dataframes one after another\n",
    "assets_merged = assets_df.merge(org_df, on=\"organization_id\")\n",
    "device_merged = device_df.merge(assets_merged, on=\"asset_id\").merge(dev_class_df, on=\"device_class_id\")\n",
    "interface_merged = interface_df.merge(device_merged, on=\"device_id\")\n",
    "events_merged = events_df.merge(interface_merged, on=\"interface_id\")\n",
    "total_entities_df = events_merged"
   ]
  },
  {
   "cell_type": "markdown",
   "id": "24580a52-c881-47bf-8ba5-73d33f6d2cce",
   "metadata": {},
   "source": [
    "#### Data duplicates check and removal (if required)"
   ]
  },
  {
   "cell_type": "code",
   "execution_count": 16,
   "id": "b5c91dbf-1c2a-4122-b49e-59eebd286710",
   "metadata": {},
   "outputs": [
    {
     "data": {
      "text/plain": [
       "(np.int64(0), np.int64(0), np.int64(0))"
      ]
     },
     "execution_count": 16,
     "metadata": {},
     "output_type": "execute_result"
    }
   ],
   "source": [
    "org_df.duplicated().sum(), assets_df.duplicated().sum(), dev_class_df.duplicated().sum()"
   ]
  },
  {
   "cell_type": "code",
   "execution_count": 17,
   "id": "1d9613b5-edde-4b92-8cfc-0324946953f1",
   "metadata": {},
   "outputs": [
    {
     "data": {
      "text/plain": [
       "(np.int64(0), np.int64(0), np.int64(0))"
      ]
     },
     "execution_count": 17,
     "metadata": {},
     "output_type": "execute_result"
    }
   ],
   "source": [
    "device_df.duplicated().sum(), interface_df.duplicated().sum(), events_df.duplicated().sum()"
   ]
  },
  {
   "cell_type": "markdown",
   "id": "cfed3491-b998-425c-ad16-2bc0a9994da5",
   "metadata": {},
   "source": [
    "#### Data null checks and removal (if required)"
   ]
  },
  {
   "cell_type": "code",
   "execution_count": 19,
   "id": "d454edf1-496d-47bc-aa3d-e858da0fe2a5",
   "metadata": {},
   "outputs": [
    {
     "data": {
      "text/plain": [
       "(np.int64(0), np.int64(0), np.int64(0))"
      ]
     },
     "execution_count": 19,
     "metadata": {},
     "output_type": "execute_result"
    }
   ],
   "source": [
    "org_df.isna().sum().sum(), assets_df.isna().sum().sum(), dev_class_df.isna().sum().sum()"
   ]
  },
  {
   "cell_type": "code",
   "execution_count": 23,
   "id": "119519f5-b448-4119-a73f-530adbdf20e8",
   "metadata": {},
   "outputs": [
    {
     "data": {
      "text/plain": [
       "(np.int64(0), np.int64(0), np.int64(0))"
      ]
     },
     "execution_count": 23,
     "metadata": {},
     "output_type": "execute_result"
    }
   ],
   "source": [
    "device_df.isna().sum().sum(), interface_df.isna().sum().sum(), events_df.isna().sum().sum()"
   ]
  },
  {
   "cell_type": "markdown",
   "id": "8ef87ef5-9d3c-4351-a910-409db162ce94",
   "metadata": {},
   "source": [
    "##### Data statistics"
   ]
  },
  {
   "cell_type": "code",
   "execution_count": 62,
   "id": "eafb0e18-d19e-41a4-86c1-b247ad2bb4bb",
   "metadata": {},
   "outputs": [
    {
     "data": {
      "text/plain": [
       "(Index(['event_timestamp', 'event_type', 'event_description', 'interface_name',\n",
       "        'interface_mac', 'interface_status', 'device_ip', 'device_serial',\n",
       "        'device_manufacturer', 'asset_name', 'asset_location',\n",
       "        'asset_purchase_date', 'asset_owner', 'org_name', 'org_industry',\n",
       "        'org_address', 'org_email', 'org_phone', 'device_class_name',\n",
       "        'device_class_description'],\n",
       "       dtype='object'),\n",
       " Index(['event_id', 'device_id', 'interface_id', 'device_id_device', 'asset_id',\n",
       "        'device_class_id', 'organization_id'],\n",
       "       dtype='object'))"
      ]
     },
     "execution_count": 62,
     "metadata": {},
     "output_type": "execute_result"
    }
   ],
   "source": [
    "total_entities_categorical = total_entities_df.columns[total_entities_df.dtypes == 'object']\n",
    "total_entities_continuous = total_entities_df.columns[total_entities_df.dtypes != 'object']\n",
    "cat = total_entities_categorical; con = total_entities_continuous\n",
    "cat, con"
   ]
  },
  {
   "cell_type": "markdown",
   "id": "79225be1-2755-4858-87c5-43ef835b5d0f",
   "metadata": {},
   "source": [
    "#### Data Cleaning \n",
    "    device_id_x should be renamed to device_id and device_id_y shoul be removed as device_id is unique across (which will be a UUID mostly)"
   ]
  },
  {
   "cell_type": "markdown",
   "id": "7f22d2c7-3363-458e-a556-3cc4ac39778d",
   "metadata": {},
   "source": [
    "##### Rename columns if required after Merge to avoid confusion and errors"
   ]
  },
  {
   "cell_type": "code",
   "execution_count": 38,
   "id": "a6613c66-a208-4e83-8a75-aa36b82c91eb",
   "metadata": {},
   "outputs": [],
   "source": [
    "events_merged = events_merged.rename(columns={\n",
    "    \"device_id_x\": \"device_id\",\n",
    "    \"device_id_y\": \"device_id_device\"\n",
    "})\n",
    "total_entities_df = events_merged\n",
    "total_entities_categorical = total_entities_df.columns[total_entities_df.dtypes == 'object']\n",
    "total_entities_continuous = total_entities_df.columns[total_entities_df.dtypes != 'object']\n",
    "cat = total_entities_categorical; con = total_entities_continuous"
   ]
  },
  {
   "cell_type": "markdown",
   "id": "8b66c2f5-915a-4ac4-a921-bdff6a196f9b",
   "metadata": {},
   "source": [
    "#### Data Visualization"
   ]
  },
  {
   "cell_type": "code",
   "execution_count": 47,
   "id": "51a4a790-d9e4-47a0-8baf-1d0217c99110",
   "metadata": {},
   "outputs": [
    {
     "data": {
      "text/plain": [
       "(Index(['event_timestamp', 'event_type', 'event_description', 'interface_name',\n",
       "        'interface_mac', 'interface_status', 'device_ip', 'device_serial',\n",
       "        'device_manufacturer', 'asset_name', 'asset_location',\n",
       "        'asset_purchase_date', 'asset_owner', 'org_name', 'org_industry',\n",
       "        'org_address', 'org_email', 'org_phone', 'device_class_name',\n",
       "        'device_class_description'],\n",
       "       dtype='object'),\n",
       " Index(['event_id', 'device_id', 'interface_id', 'device_id_device', 'asset_id',\n",
       "        'device_class_id', 'organization_id'],\n",
       "       dtype='object'))"
      ]
     },
     "execution_count": 47,
     "metadata": {},
     "output_type": "execute_result"
    }
   ],
   "source": [
    "# Bivariate functions\n",
    "def plot_scatter(df: pd.DataFrame, x: str, y: str):\n",
    "    plt.figure(figsize=(10,3))\n",
    "    sns.regplot(data=df,x=x,y=y)\n",
    "    plt.title(f\"Scatterplot for {x} and {y}\")\n",
    "    plt.show()\n",
    "\n",
    "def plot_reg(df: pd.DataFrame, x: str, y: str):\n",
    "    plt.figure(figsize=(10,3))\n",
    "    sns.regplot(data=df, x=x, y=y, line_kws={\"color\":\"Red\"})\n",
    "    plt.title(f\"Regplot for {x} and {y}\")\n",
    "    plt.show()\n",
    "\n",
    "def plot_box(df: pd.DataFrame, x: str, y: str):\n",
    "    plt.figure(figsize=(10,3))\n",
    "    sns.boxplot(data=df, x=x, y=y)\n",
    "    plt.title(f\"Boxplot for {x} and {y}\")\n",
    "    plt.xticks(rotation=90)\n",
    "    plt.show()\n",
    "cat, con"
   ]
  },
  {
   "cell_type": "code",
   "execution_count": 63,
   "id": "883cca0f-d619-43b8-8e76-6f7e334ceb6d",
   "metadata": {},
   "outputs": [],
   "source": [
    "# plot_box(total_entities_df.head(10), 'asset_name', 'asset_id')"
   ]
  },
  {
   "cell_type": "code",
   "execution_count": 52,
   "id": "0c5b5cd4-79ef-4db1-a854-7dc29ff70fe9",
   "metadata": {},
   "outputs": [],
   "source": [
    "def crosstab_heatmap(df: pd.DataFrame, cat_col1: str, cat_col2: str):\n",
    "    ctab = pd.crosstab(df[cat_col1], df[cat_col2])\n",
    "    sns.heatmap(ctab, annot=True, fmt=\"d\")\n",
    "    plt.title(f\"Crosstab Heatmap for {cat_col1} vs {cat_col2}\")\n",
    "    plt.show()"
   ]
  },
  {
   "cell_type": "code",
   "execution_count": 64,
   "id": "4ff37f01-b0ea-4181-bfaa-a455b19dc197",
   "metadata": {},
   "outputs": [],
   "source": [
    "# crosstab_heatmap(total_entities_df.head(10), 'device_manufacturer', 'device_serial')"
   ]
  },
  {
   "cell_type": "code",
   "execution_count": 65,
   "id": "1b809822-e7d8-45c1-a7c3-e0fa125f641d",
   "metadata": {},
   "outputs": [],
   "source": [
    "# crosstab_heatmap(total_entities_df.head(10), 'device_ip', 'interface_name')"
   ]
  },
  {
   "cell_type": "code",
   "execution_count": 56,
   "id": "d4bc1d3a-53d4-47ac-adcd-216c74b93a48",
   "metadata": {},
   "outputs": [
    {
     "data": {
      "text/html": [
       "<div>\n",
       "<style scoped>\n",
       "    .dataframe tbody tr th:only-of-type {\n",
       "        vertical-align: middle;\n",
       "    }\n",
       "\n",
       "    .dataframe tbody tr th {\n",
       "        vertical-align: top;\n",
       "    }\n",
       "\n",
       "    .dataframe thead th {\n",
       "        text-align: right;\n",
       "    }\n",
       "</style>\n",
       "<table border=\"1\" class=\"dataframe\">\n",
       "  <thead>\n",
       "    <tr style=\"text-align: right;\">\n",
       "      <th></th>\n",
       "      <th>event_id</th>\n",
       "      <th>device_id</th>\n",
       "      <th>interface_id</th>\n",
       "      <th>device_id_device</th>\n",
       "      <th>asset_id</th>\n",
       "      <th>device_class_id</th>\n",
       "      <th>organization_id</th>\n",
       "    </tr>\n",
       "  </thead>\n",
       "  <tbody>\n",
       "    <tr>\n",
       "      <th>event_id</th>\n",
       "      <td>1.000000</td>\n",
       "      <td>-0.007873</td>\n",
       "      <td>-0.001075</td>\n",
       "      <td>-0.001076</td>\n",
       "      <td>-0.002965</td>\n",
       "      <td>0.003934</td>\n",
       "      <td>-0.001634</td>\n",
       "    </tr>\n",
       "    <tr>\n",
       "      <th>device_id</th>\n",
       "      <td>-0.007873</td>\n",
       "      <td>1.000000</td>\n",
       "      <td>-0.001000</td>\n",
       "      <td>-0.001000</td>\n",
       "      <td>0.000842</td>\n",
       "      <td>-0.003190</td>\n",
       "      <td>-0.001136</td>\n",
       "    </tr>\n",
       "    <tr>\n",
       "      <th>interface_id</th>\n",
       "      <td>-0.001075</td>\n",
       "      <td>-0.001000</td>\n",
       "      <td>1.000000</td>\n",
       "      <td>1.000000</td>\n",
       "      <td>-0.004831</td>\n",
       "      <td>-0.007687</td>\n",
       "      <td>-0.015107</td>\n",
       "    </tr>\n",
       "    <tr>\n",
       "      <th>device_id_device</th>\n",
       "      <td>-0.001076</td>\n",
       "      <td>-0.001000</td>\n",
       "      <td>1.000000</td>\n",
       "      <td>1.000000</td>\n",
       "      <td>-0.004832</td>\n",
       "      <td>-0.007687</td>\n",
       "      <td>-0.015107</td>\n",
       "    </tr>\n",
       "    <tr>\n",
       "      <th>asset_id</th>\n",
       "      <td>-0.002965</td>\n",
       "      <td>0.000842</td>\n",
       "      <td>-0.004831</td>\n",
       "      <td>-0.004832</td>\n",
       "      <td>1.000000</td>\n",
       "      <td>-0.000615</td>\n",
       "      <td>0.106543</td>\n",
       "    </tr>\n",
       "    <tr>\n",
       "      <th>device_class_id</th>\n",
       "      <td>0.003934</td>\n",
       "      <td>-0.003190</td>\n",
       "      <td>-0.007687</td>\n",
       "      <td>-0.007687</td>\n",
       "      <td>-0.000615</td>\n",
       "      <td>1.000000</td>\n",
       "      <td>-0.003126</td>\n",
       "    </tr>\n",
       "    <tr>\n",
       "      <th>organization_id</th>\n",
       "      <td>-0.001634</td>\n",
       "      <td>-0.001136</td>\n",
       "      <td>-0.015107</td>\n",
       "      <td>-0.015107</td>\n",
       "      <td>0.106543</td>\n",
       "      <td>-0.003126</td>\n",
       "      <td>1.000000</td>\n",
       "    </tr>\n",
       "  </tbody>\n",
       "</table>\n",
       "</div>"
      ],
      "text/plain": [
       "                  event_id  device_id  interface_id  device_id_device  \\\n",
       "event_id          1.000000  -0.007873     -0.001075         -0.001076   \n",
       "device_id        -0.007873   1.000000     -0.001000         -0.001000   \n",
       "interface_id     -0.001075  -0.001000      1.000000          1.000000   \n",
       "device_id_device -0.001076  -0.001000      1.000000          1.000000   \n",
       "asset_id         -0.002965   0.000842     -0.004831         -0.004832   \n",
       "device_class_id   0.003934  -0.003190     -0.007687         -0.007687   \n",
       "organization_id  -0.001634  -0.001136     -0.015107         -0.015107   \n",
       "\n",
       "                  asset_id  device_class_id  organization_id  \n",
       "event_id         -0.002965         0.003934        -0.001634  \n",
       "device_id         0.000842        -0.003190        -0.001136  \n",
       "interface_id     -0.004831        -0.007687        -0.015107  \n",
       "device_id_device -0.004832        -0.007687        -0.015107  \n",
       "asset_id          1.000000        -0.000615         0.106543  \n",
       "device_class_id  -0.000615         1.000000        -0.003126  \n",
       "organization_id   0.106543        -0.003126         1.000000  "
      ]
     },
     "execution_count": 56,
     "metadata": {},
     "output_type": "execute_result"
    }
   ],
   "source": [
    "corr = total_entities_df.corr(numeric_only=True)\n",
    "corr"
   ]
  },
  {
   "cell_type": "code",
   "execution_count": 57,
   "id": "9b8876af-c2a2-4e8f-b152-8b8d377d01af",
   "metadata": {},
   "outputs": [
    {
     "data": {
      "text/plain": [
       "np.float64(-0.0010002370171451611)"
      ]
     },
     "execution_count": 57,
     "metadata": {},
     "output_type": "execute_result"
    }
   ],
   "source": [
    "corr.loc[\"device_id\", \"interface_id\"]"
   ]
  },
  {
   "cell_type": "code",
   "execution_count": 68,
   "id": "1753fb8c-91d9-47a7-a203-af1f46024fe2",
   "metadata": {},
   "outputs": [],
   "source": [
    "# sns.pairplot(total_entities_df.head(10)[con])\n",
    "# sns.pairplot(total_entities_df.head(2)[con], kind=\"reg\", plot_kws = {\"line_kws\": {\"color\": \"red\"}})"
   ]
  },
  {
   "cell_type": "markdown",
   "id": "17edfbb2-3084-4803-8038-e9704cf49596",
   "metadata": {},
   "source": [
    "#### Queries on Merged Dataframe : total_entities_df"
   ]
  },
  {
   "cell_type": "code",
   "execution_count": 94,
   "id": "d0584b99-2bb5-4efe-ad94-b112f20c8141",
   "metadata": {},
   "outputs": [
    {
     "data": {
      "image/png": "[encoded data removed]",
      "text/plain": [
       "<Figure size 640x480 with 1 Axes>"
      ]
     },
     "metadata": {},
     "output_type": "display_data"
    }
   ],
   "source": [
    "#Get Top 5 Organizations by Device count\n",
    "\n",
    "organizations_by_devices = (\n",
    "    total_entities_df.groupby(by = [\"organization_id\", \"org_name\"])\n",
    "    .agg(Devices_Count=(\"device_id\", \"nunique\"))\n",
    "    .reset_index()\n",
    "    .sort_values(by = ['Devices_Count'], ascending=False).head(5)\n",
    ")\n",
    "organizations_by_devices.rename(columns = {\"org_name\":\"Organization Name\", \"organization_id\":\"Organization Id\"}, inplace=True)\n",
    "organizations_by_devices\n",
    "\n",
    "sns.barplot(data=organizations_by_devices, y='Devices_Count', x='Organization Name')\n",
    "plt.xticks(rotation=90)\n",
    "plt.title('Top 5 Organizations by Devices Count')\n",
    "plt.show()"
   ]
  },
  {
   "cell_type": "code",
   "execution_count": null,
   "id": "53190b48-9f5a-48c9-9f02-0236e0117656",
   "metadata": {},
   "outputs": [],
   "source": []
  }
 ],
 "metadata": {
  "kernelspec": {
   "display_name": "Python 3 (ipykernel)",
   "language": "python",
   "name": "python3"
  },
  "language_info": {
   "codemirror_mode": {
    "name": "ipython",
    "version": 3
   },
   "file_extension": ".py",
   "mimetype": "text/x-python",
   "name": "python",
   "nbconvert_exporter": "python",
   "pygments_lexer": "ipython3",
   "version": "3.13.5"
  }
 },
 "nbformat": 4,
 "nbformat_minor": 5
}
